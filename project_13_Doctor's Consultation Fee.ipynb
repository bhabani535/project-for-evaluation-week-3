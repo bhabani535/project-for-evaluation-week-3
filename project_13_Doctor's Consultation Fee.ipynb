{
 "cells": [
  {
   "cell_type": "raw",
   "metadata": {},
   "source": [
    "\n",
    "Predict A Doctor's Consultation Fee \n",
    "\n",
    "\n",
    "We have all been in situation where we go to a doctor in emergency and find that the consultation fees are too high. As a data scientist we all should do better. What if you have data that records important details about a doctor and you get to build a model to predict the doctor’s consulting fee.? This is the hackathon that lets you do that.\n",
    "\n",
    "Size of training set: 5961 records\n",
    "\n",
    "Size of test set: 1987 records\n",
    "\n",
    "FEATURES:\n",
    "\n",
    "Qualification: Qualification and degrees held by the doctor\n",
    "\n",
    "Experience: Experience of the doctor in number of years\n",
    "\n",
    "Rating: Rating given by patients\n",
    "\n",
    "Profile: Type of the doctor\n",
    "\n",
    "Miscellaeous_Info: Extra information about the doctor\n",
    "\n",
    "Fees: Fees charged by the doctor\n",
    "\n",
    "Place: Area and the city where the doctor is located.\n",
    "\n",
    "\n",
    "https://github.com/dsrscientist/Data-Science-ML-Capstone-Projects"
   ]
  },
  {
   "cell_type": "code",
   "execution_count": 235,
   "metadata": {},
   "outputs": [],
   "source": [
    "import numpy as np\n",
    "import pandas as pd\n",
    "import seaborn as sns\n",
    "import matplotlib.pyplot as plt\n",
    "import warnings\n",
    "warnings.filterwarnings('always')\n",
    "warnings.filterwarnings('ignore')"
   ]
  },
  {
   "cell_type": "code",
   "execution_count": 236,
   "metadata": {},
   "outputs": [],
   "source": [
    "dftest=pd.read_excel('docterfeedatatest.xlsx')\n",
    "dftrain=pd.read_excel('docterfeedatatrain.xlsx')"
   ]
  },
  {
   "cell_type": "code",
   "execution_count": 237,
   "metadata": {},
   "outputs": [
    {
     "data": {
      "text/plain": [
       "((1987, 7), (5961, 8), (7948, 8))"
      ]
     },
     "execution_count": 237,
     "metadata": {},
     "output_type": "execute_result"
    }
   ],
   "source": [
    "dftrain[\"source\"]=\"dftrain\"\n",
    "dftest[\"source\"]=\"dftest\"\n",
    "#dftest['Price']=np.nan\n",
    "df=pd.concat([dftrain,dftest],ignore_index=True)\n",
    "dftest.shape,dftrain.shape,df.shape"
   ]
  },
  {
   "cell_type": "code",
   "execution_count": 238,
   "metadata": {},
   "outputs": [
    {
     "data": {
      "text/html": [
       "<div>\n",
       "<style scoped>\n",
       "    .dataframe tbody tr th:only-of-type {\n",
       "        vertical-align: middle;\n",
       "    }\n",
       "\n",
       "    .dataframe tbody tr th {\n",
       "        vertical-align: top;\n",
       "    }\n",
       "\n",
       "    .dataframe thead th {\n",
       "        text-align: right;\n",
       "    }\n",
       "</style>\n",
       "<table border=\"1\" class=\"dataframe\">\n",
       "  <thead>\n",
       "    <tr style=\"text-align: right;\">\n",
       "      <th></th>\n",
       "      <th>Qualification</th>\n",
       "      <th>Experience</th>\n",
       "      <th>Rating</th>\n",
       "      <th>Place</th>\n",
       "      <th>Profile</th>\n",
       "      <th>Miscellaneous_Info</th>\n",
       "      <th>Fees</th>\n",
       "      <th>source</th>\n",
       "    </tr>\n",
       "  </thead>\n",
       "  <tbody>\n",
       "    <tr>\n",
       "      <th>0</th>\n",
       "      <td>BHMS, MD - Homeopathy</td>\n",
       "      <td>24 years experience</td>\n",
       "      <td>100%</td>\n",
       "      <td>Kakkanad, Ernakulam</td>\n",
       "      <td>Homeopath</td>\n",
       "      <td>100% 16 Feedback Kakkanad, Ernakulam</td>\n",
       "      <td>100.0</td>\n",
       "      <td>dftrain</td>\n",
       "    </tr>\n",
       "    <tr>\n",
       "      <th>1</th>\n",
       "      <td>BAMS, MD - Ayurveda Medicine</td>\n",
       "      <td>12 years experience</td>\n",
       "      <td>98%</td>\n",
       "      <td>Whitefield, Bangalore</td>\n",
       "      <td>Ayurveda</td>\n",
       "      <td>98% 76 Feedback Whitefield, Bangalore</td>\n",
       "      <td>350.0</td>\n",
       "      <td>dftrain</td>\n",
       "    </tr>\n",
       "    <tr>\n",
       "      <th>2</th>\n",
       "      <td>MBBS, MS - Otorhinolaryngology</td>\n",
       "      <td>9 years experience</td>\n",
       "      <td>NaN</td>\n",
       "      <td>Mathikere - BEL, Bangalore</td>\n",
       "      <td>ENT Specialist</td>\n",
       "      <td>NaN</td>\n",
       "      <td>300.0</td>\n",
       "      <td>dftrain</td>\n",
       "    </tr>\n",
       "    <tr>\n",
       "      <th>3</th>\n",
       "      <td>BSc - Zoology, BAMS</td>\n",
       "      <td>12 years experience</td>\n",
       "      <td>NaN</td>\n",
       "      <td>Bannerghatta Road, Bangalore</td>\n",
       "      <td>Ayurveda</td>\n",
       "      <td>Bannerghatta Road, Bangalore ₹250 Available on...</td>\n",
       "      <td>250.0</td>\n",
       "      <td>dftrain</td>\n",
       "    </tr>\n",
       "    <tr>\n",
       "      <th>4</th>\n",
       "      <td>BAMS</td>\n",
       "      <td>20 years experience</td>\n",
       "      <td>100%</td>\n",
       "      <td>Keelkattalai, Chennai</td>\n",
       "      <td>Ayurveda</td>\n",
       "      <td>100% 4 Feedback Keelkattalai, Chennai</td>\n",
       "      <td>250.0</td>\n",
       "      <td>dftrain</td>\n",
       "    </tr>\n",
       "    <tr>\n",
       "      <th>...</th>\n",
       "      <td>...</td>\n",
       "      <td>...</td>\n",
       "      <td>...</td>\n",
       "      <td>...</td>\n",
       "      <td>...</td>\n",
       "      <td>...</td>\n",
       "      <td>...</td>\n",
       "      <td>...</td>\n",
       "    </tr>\n",
       "    <tr>\n",
       "      <th>7943</th>\n",
       "      <td>BAMS, Doctor of Medicine</td>\n",
       "      <td>10 years experience</td>\n",
       "      <td>NaN</td>\n",
       "      <td>Basavanagudi, Bangalore</td>\n",
       "      <td>Ayurveda</td>\n",
       "      <td>NaN</td>\n",
       "      <td>NaN</td>\n",
       "      <td>dftest</td>\n",
       "    </tr>\n",
       "    <tr>\n",
       "      <th>7944</th>\n",
       "      <td>MD - Dermatology , Venereology &amp; Leprosy, MBBS</td>\n",
       "      <td>4 years experience</td>\n",
       "      <td>NaN</td>\n",
       "      <td>Choolai, Chennai</td>\n",
       "      <td>Dermatologists</td>\n",
       "      <td>NaN</td>\n",
       "      <td>NaN</td>\n",
       "      <td>dftest</td>\n",
       "    </tr>\n",
       "    <tr>\n",
       "      <th>7945</th>\n",
       "      <td>MBBS, MD / MS - Obstetrics &amp; Gynaecology</td>\n",
       "      <td>9 years experience</td>\n",
       "      <td>NaN</td>\n",
       "      <td>Porur, Chennai</td>\n",
       "      <td>General Medicine</td>\n",
       "      <td>NaN</td>\n",
       "      <td>NaN</td>\n",
       "      <td>dftest</td>\n",
       "    </tr>\n",
       "    <tr>\n",
       "      <th>7946</th>\n",
       "      <td>BDS</td>\n",
       "      <td>12 years experience</td>\n",
       "      <td>98%</td>\n",
       "      <td>Arekere, Bangalore</td>\n",
       "      <td>Dentist</td>\n",
       "      <td>RCT - Root Canal Treatment Root Canal Treatmen...</td>\n",
       "      <td>NaN</td>\n",
       "      <td>dftest</td>\n",
       "    </tr>\n",
       "    <tr>\n",
       "      <th>7947</th>\n",
       "      <td>MBBS, MD - Dermatology , Venereology &amp; Leprosy</td>\n",
       "      <td>8 years experience</td>\n",
       "      <td>NaN</td>\n",
       "      <td>Pallikaranai, Chennai</td>\n",
       "      <td>Dermatologists</td>\n",
       "      <td>1 Feedback Pallikaranai, Chennai ₹500</td>\n",
       "      <td>NaN</td>\n",
       "      <td>dftest</td>\n",
       "    </tr>\n",
       "  </tbody>\n",
       "</table>\n",
       "<p>7948 rows × 8 columns</p>\n",
       "</div>"
      ],
      "text/plain": [
       "                                       Qualification           Experience  \\\n",
       "0                              BHMS, MD - Homeopathy  24 years experience   \n",
       "1                       BAMS, MD - Ayurveda Medicine  12 years experience   \n",
       "2                     MBBS, MS - Otorhinolaryngology   9 years experience   \n",
       "3                                BSc - Zoology, BAMS  12 years experience   \n",
       "4                                               BAMS  20 years experience   \n",
       "...                                              ...                  ...   \n",
       "7943                        BAMS, Doctor of Medicine  10 years experience   \n",
       "7944  MD - Dermatology , Venereology & Leprosy, MBBS   4 years experience   \n",
       "7945        MBBS, MD / MS - Obstetrics & Gynaecology   9 years experience   \n",
       "7946                                             BDS  12 years experience   \n",
       "7947  MBBS, MD - Dermatology , Venereology & Leprosy   8 years experience   \n",
       "\n",
       "     Rating                         Place           Profile  \\\n",
       "0      100%           Kakkanad, Ernakulam         Homeopath   \n",
       "1       98%         Whitefield, Bangalore          Ayurveda   \n",
       "2       NaN    Mathikere - BEL, Bangalore    ENT Specialist   \n",
       "3       NaN  Bannerghatta Road, Bangalore          Ayurveda   \n",
       "4      100%         Keelkattalai, Chennai          Ayurveda   \n",
       "...     ...                           ...               ...   \n",
       "7943    NaN       Basavanagudi, Bangalore          Ayurveda   \n",
       "7944    NaN              Choolai, Chennai    Dermatologists   \n",
       "7945    NaN                Porur, Chennai  General Medicine   \n",
       "7946    98%            Arekere, Bangalore           Dentist   \n",
       "7947    NaN         Pallikaranai, Chennai    Dermatologists   \n",
       "\n",
       "                                     Miscellaneous_Info   Fees   source  \n",
       "0                  100% 16 Feedback Kakkanad, Ernakulam  100.0  dftrain  \n",
       "1                 98% 76 Feedback Whitefield, Bangalore  350.0  dftrain  \n",
       "2                                                   NaN  300.0  dftrain  \n",
       "3     Bannerghatta Road, Bangalore ₹250 Available on...  250.0  dftrain  \n",
       "4                 100% 4 Feedback Keelkattalai, Chennai  250.0  dftrain  \n",
       "...                                                 ...    ...      ...  \n",
       "7943                                                NaN    NaN   dftest  \n",
       "7944                                                NaN    NaN   dftest  \n",
       "7945                                                NaN    NaN   dftest  \n",
       "7946  RCT - Root Canal Treatment Root Canal Treatmen...    NaN   dftest  \n",
       "7947              1 Feedback Pallikaranai, Chennai ₹500    NaN   dftest  \n",
       "\n",
       "[7948 rows x 8 columns]"
      ]
     },
     "execution_count": 238,
     "metadata": {},
     "output_type": "execute_result"
    }
   ],
   "source": [
    "df"
   ]
  },
  {
   "cell_type": "code",
   "execution_count": 239,
   "metadata": {},
   "outputs": [],
   "source": [
    "#lets reset the index\n",
    "df.reset_index(drop=True,inplace=True)"
   ]
  },
  {
   "cell_type": "code",
   "execution_count": 240,
   "metadata": {},
   "outputs": [
    {
     "data": {
      "text/html": [
       "<div>\n",
       "<style scoped>\n",
       "    .dataframe tbody tr th:only-of-type {\n",
       "        vertical-align: middle;\n",
       "    }\n",
       "\n",
       "    .dataframe tbody tr th {\n",
       "        vertical-align: top;\n",
       "    }\n",
       "\n",
       "    .dataframe thead th {\n",
       "        text-align: right;\n",
       "    }\n",
       "</style>\n",
       "<table border=\"1\" class=\"dataframe\">\n",
       "  <thead>\n",
       "    <tr style=\"text-align: right;\">\n",
       "      <th></th>\n",
       "      <th>Qualification</th>\n",
       "      <th>Experience</th>\n",
       "      <th>Rating</th>\n",
       "      <th>Place</th>\n",
       "      <th>Profile</th>\n",
       "      <th>Miscellaneous_Info</th>\n",
       "      <th>Fees</th>\n",
       "      <th>source</th>\n",
       "    </tr>\n",
       "  </thead>\n",
       "  <tbody>\n",
       "    <tr>\n",
       "      <th>0</th>\n",
       "      <td>BHMS, MD - Homeopathy</td>\n",
       "      <td>24 years experience</td>\n",
       "      <td>100%</td>\n",
       "      <td>Kakkanad, Ernakulam</td>\n",
       "      <td>Homeopath</td>\n",
       "      <td>100% 16 Feedback Kakkanad, Ernakulam</td>\n",
       "      <td>100.0</td>\n",
       "      <td>dftrain</td>\n",
       "    </tr>\n",
       "    <tr>\n",
       "      <th>1</th>\n",
       "      <td>BAMS, MD - Ayurveda Medicine</td>\n",
       "      <td>12 years experience</td>\n",
       "      <td>98%</td>\n",
       "      <td>Whitefield, Bangalore</td>\n",
       "      <td>Ayurveda</td>\n",
       "      <td>98% 76 Feedback Whitefield, Bangalore</td>\n",
       "      <td>350.0</td>\n",
       "      <td>dftrain</td>\n",
       "    </tr>\n",
       "    <tr>\n",
       "      <th>2</th>\n",
       "      <td>MBBS, MS - Otorhinolaryngology</td>\n",
       "      <td>9 years experience</td>\n",
       "      <td>NaN</td>\n",
       "      <td>Mathikere - BEL, Bangalore</td>\n",
       "      <td>ENT Specialist</td>\n",
       "      <td>NaN</td>\n",
       "      <td>300.0</td>\n",
       "      <td>dftrain</td>\n",
       "    </tr>\n",
       "    <tr>\n",
       "      <th>3</th>\n",
       "      <td>BSc - Zoology, BAMS</td>\n",
       "      <td>12 years experience</td>\n",
       "      <td>NaN</td>\n",
       "      <td>Bannerghatta Road, Bangalore</td>\n",
       "      <td>Ayurveda</td>\n",
       "      <td>Bannerghatta Road, Bangalore ₹250 Available on...</td>\n",
       "      <td>250.0</td>\n",
       "      <td>dftrain</td>\n",
       "    </tr>\n",
       "    <tr>\n",
       "      <th>4</th>\n",
       "      <td>BAMS</td>\n",
       "      <td>20 years experience</td>\n",
       "      <td>100%</td>\n",
       "      <td>Keelkattalai, Chennai</td>\n",
       "      <td>Ayurveda</td>\n",
       "      <td>100% 4 Feedback Keelkattalai, Chennai</td>\n",
       "      <td>250.0</td>\n",
       "      <td>dftrain</td>\n",
       "    </tr>\n",
       "    <tr>\n",
       "      <th>...</th>\n",
       "      <td>...</td>\n",
       "      <td>...</td>\n",
       "      <td>...</td>\n",
       "      <td>...</td>\n",
       "      <td>...</td>\n",
       "      <td>...</td>\n",
       "      <td>...</td>\n",
       "      <td>...</td>\n",
       "    </tr>\n",
       "    <tr>\n",
       "      <th>7943</th>\n",
       "      <td>BAMS, Doctor of Medicine</td>\n",
       "      <td>10 years experience</td>\n",
       "      <td>NaN</td>\n",
       "      <td>Basavanagudi, Bangalore</td>\n",
       "      <td>Ayurveda</td>\n",
       "      <td>NaN</td>\n",
       "      <td>NaN</td>\n",
       "      <td>dftest</td>\n",
       "    </tr>\n",
       "    <tr>\n",
       "      <th>7944</th>\n",
       "      <td>MD - Dermatology , Venereology &amp; Leprosy, MBBS</td>\n",
       "      <td>4 years experience</td>\n",
       "      <td>NaN</td>\n",
       "      <td>Choolai, Chennai</td>\n",
       "      <td>Dermatologists</td>\n",
       "      <td>NaN</td>\n",
       "      <td>NaN</td>\n",
       "      <td>dftest</td>\n",
       "    </tr>\n",
       "    <tr>\n",
       "      <th>7945</th>\n",
       "      <td>MBBS, MD / MS - Obstetrics &amp; Gynaecology</td>\n",
       "      <td>9 years experience</td>\n",
       "      <td>NaN</td>\n",
       "      <td>Porur, Chennai</td>\n",
       "      <td>General Medicine</td>\n",
       "      <td>NaN</td>\n",
       "      <td>NaN</td>\n",
       "      <td>dftest</td>\n",
       "    </tr>\n",
       "    <tr>\n",
       "      <th>7946</th>\n",
       "      <td>BDS</td>\n",
       "      <td>12 years experience</td>\n",
       "      <td>98%</td>\n",
       "      <td>Arekere, Bangalore</td>\n",
       "      <td>Dentist</td>\n",
       "      <td>RCT - Root Canal Treatment Root Canal Treatmen...</td>\n",
       "      <td>NaN</td>\n",
       "      <td>dftest</td>\n",
       "    </tr>\n",
       "    <tr>\n",
       "      <th>7947</th>\n",
       "      <td>MBBS, MD - Dermatology , Venereology &amp; Leprosy</td>\n",
       "      <td>8 years experience</td>\n",
       "      <td>NaN</td>\n",
       "      <td>Pallikaranai, Chennai</td>\n",
       "      <td>Dermatologists</td>\n",
       "      <td>1 Feedback Pallikaranai, Chennai ₹500</td>\n",
       "      <td>NaN</td>\n",
       "      <td>dftest</td>\n",
       "    </tr>\n",
       "  </tbody>\n",
       "</table>\n",
       "<p>7948 rows × 8 columns</p>\n",
       "</div>"
      ],
      "text/plain": [
       "                                       Qualification           Experience  \\\n",
       "0                              BHMS, MD - Homeopathy  24 years experience   \n",
       "1                       BAMS, MD - Ayurveda Medicine  12 years experience   \n",
       "2                     MBBS, MS - Otorhinolaryngology   9 years experience   \n",
       "3                                BSc - Zoology, BAMS  12 years experience   \n",
       "4                                               BAMS  20 years experience   \n",
       "...                                              ...                  ...   \n",
       "7943                        BAMS, Doctor of Medicine  10 years experience   \n",
       "7944  MD - Dermatology , Venereology & Leprosy, MBBS   4 years experience   \n",
       "7945        MBBS, MD / MS - Obstetrics & Gynaecology   9 years experience   \n",
       "7946                                             BDS  12 years experience   \n",
       "7947  MBBS, MD - Dermatology , Venereology & Leprosy   8 years experience   \n",
       "\n",
       "     Rating                         Place           Profile  \\\n",
       "0      100%           Kakkanad, Ernakulam         Homeopath   \n",
       "1       98%         Whitefield, Bangalore          Ayurveda   \n",
       "2       NaN    Mathikere - BEL, Bangalore    ENT Specialist   \n",
       "3       NaN  Bannerghatta Road, Bangalore          Ayurveda   \n",
       "4      100%         Keelkattalai, Chennai          Ayurveda   \n",
       "...     ...                           ...               ...   \n",
       "7943    NaN       Basavanagudi, Bangalore          Ayurveda   \n",
       "7944    NaN              Choolai, Chennai    Dermatologists   \n",
       "7945    NaN                Porur, Chennai  General Medicine   \n",
       "7946    98%            Arekere, Bangalore           Dentist   \n",
       "7947    NaN         Pallikaranai, Chennai    Dermatologists   \n",
       "\n",
       "                                     Miscellaneous_Info   Fees   source  \n",
       "0                  100% 16 Feedback Kakkanad, Ernakulam  100.0  dftrain  \n",
       "1                 98% 76 Feedback Whitefield, Bangalore  350.0  dftrain  \n",
       "2                                                   NaN  300.0  dftrain  \n",
       "3     Bannerghatta Road, Bangalore ₹250 Available on...  250.0  dftrain  \n",
       "4                 100% 4 Feedback Keelkattalai, Chennai  250.0  dftrain  \n",
       "...                                                 ...    ...      ...  \n",
       "7943                                                NaN    NaN   dftest  \n",
       "7944                                                NaN    NaN   dftest  \n",
       "7945                                                NaN    NaN   dftest  \n",
       "7946  RCT - Root Canal Treatment Root Canal Treatmen...    NaN   dftest  \n",
       "7947              1 Feedback Pallikaranai, Chennai ₹500    NaN   dftest  \n",
       "\n",
       "[7948 rows x 8 columns]"
      ]
     },
     "execution_count": 240,
     "metadata": {},
     "output_type": "execute_result"
    }
   ],
   "source": [
    "df"
   ]
  },
  {
   "cell_type": "code",
   "execution_count": 241,
   "metadata": {},
   "outputs": [],
   "source": [
    "#i think this data need a lot of string manipulation"
   ]
  },
  {
   "cell_type": "code",
   "execution_count": 242,
   "metadata": {},
   "outputs": [
    {
     "data": {
      "text/plain": [
       "Qualification            0\n",
       "Experience               0\n",
       "Rating                4392\n",
       "Place                   31\n",
       "Profile                  0\n",
       "Miscellaneous_Info    3454\n",
       "Fees                  1987\n",
       "source                   0\n",
       "dtype: int64"
      ]
     },
     "execution_count": 242,
     "metadata": {},
     "output_type": "execute_result"
    }
   ],
   "source": [
    "#lets check the null values\n",
    "df.isnull().sum()"
   ]
  },
  {
   "cell_type": "code",
   "execution_count": 243,
   "metadata": {},
   "outputs": [],
   "source": [
    "#too many missing values in"
   ]
  },
  {
   "cell_type": "code",
   "execution_count": 244,
   "metadata": {},
   "outputs": [],
   "source": [
    "#Miscellaneous_Info ,Rating,Place these column we have to fill"
   ]
  },
  {
   "cell_type": "code",
   "execution_count": 245,
   "metadata": {},
   "outputs": [
    {
     "name": "stdout",
     "output_type": "stream",
     "text": [
      "BDS                                                                                                                                                                                   632\n",
      "BHMS                                                                                                                                                                                  627\n",
      "BAMS                                                                                                                                                                                  624\n",
      "MBBS                                                                                                                                                                                  441\n",
      "MBBS, MS - ENT                                                                                                                                                                        280\n",
      "                                                                                                                                                                                     ... \n",
      "MBBS, MS - General Surgery, MCh - Plastic Surgery                                                                                                                                       1\n",
      "BAMS, MD - Alternate Medicine, Fellow of Academy of General Education (FAGE), Diploma in Preventive & Promotive Healthcare                                                              1\n",
      "MDS - Periodontology and Oral Implantology, Certificate in Cosmetic Dentistry, Post Graduate Certificate in Endodontics (PGCE), BDS, Fellow of Academy of General Education (FAGE)      1\n",
      "BHMS, Doctor of Homeopathic Medicine (HMD), MBA                                                                                                                                         1\n",
      "MBBS, MD - General Medicine, Post Graduate Diploma in Diabetology (PGDD), Certificate Course in Evidence Based Diabetes Management (CCEBDM), FRCP                                       1\n",
      "Name: Qualification, Length: 1801, dtype: int64\n",
      "\n",
      "9 years experience     419\n",
      "10 years experience    404\n",
      "8 years experience     380\n",
      "11 years experience    374\n",
      "12 years experience    358\n",
      "                      ... \n",
      "58 years experience      1\n",
      "61 years experience      1\n",
      "64 years experience      1\n",
      "60 years experience      1\n",
      "66 years experience      1\n",
      "Name: Experience, Length: 64, dtype: int64\n",
      "\n",
      "100%    907\n",
      "98%     402\n",
      "99%     327\n",
      "97%     325\n",
      "96%     285\n",
      "95%     225\n",
      "94%     166\n",
      "93%     143\n",
      "90%      95\n",
      "92%      95\n",
      "91%      86\n",
      "88%      54\n",
      "89%      53\n",
      "85%      35\n",
      "83%      32\n",
      "82%      32\n",
      "86%      27\n",
      "80%      26\n",
      "87%      25\n",
      "84%      20\n",
      "77%      17\n",
      "67%      17\n",
      "71%      16\n",
      "79%      15\n",
      "81%      15\n",
      "73%      13\n",
      "76%      13\n",
      "60%      11\n",
      "75%       8\n",
      "70%       8\n",
      "74%       7\n",
      "78%       7\n",
      "69%       6\n",
      "55%       5\n",
      "56%       5\n",
      "68%       5\n",
      "64%       4\n",
      "57%       3\n",
      "72%       3\n",
      "65%       2\n",
      "62%       2\n",
      "33%       2\n",
      "53%       2\n",
      "63%       2\n",
      "47%       1\n",
      "48%       1\n",
      "45%       1\n",
      "58%       1\n",
      "52%       1\n",
      "40%       1\n",
      "7%        1\n",
      "36%       1\n",
      "Name: Rating, dtype: int64\n",
      "\n",
      "Andheri West, Mumbai             97\n",
      "HSR Layout, Bangalore            97\n",
      "Dwarka, Delhi                    93\n",
      "Banjara Hills, Hyderabad         85\n",
      "Mulund West, Mumbai              81\n",
      "                                 ..\n",
      "TV Chalai, Thiruvananthapuram     1\n",
      "Cheranalloor, Ernakulam           1\n",
      "Jafferkhanpet, Chennai            1\n",
      "Bhandup, Mumbai                   1\n",
      "Mettupalayam, Coimbatore          1\n",
      "Name: Place, Length: 948, dtype: int64\n",
      "\n",
      "Dentist             1838\n",
      "General Medicine    1617\n",
      "Dermatologists      1373\n",
      "Homeopath           1120\n",
      "Ayurveda            1037\n",
      "ENT Specialist       963\n",
      "Name: Profile, dtype: int64\n",
      "\n",
      "Acrylic Partial Denture Crowns and Bridges Fixing Artificial Teeth      50\n",
      "Skin Allergy Treatment Skin Allergies Dermabrasion                      18\n",
      "Tooth Extraction Dental Fillings Scaling / Polishing                    16\n",
      "Dental Fillings Zirconia Crowns Dental Implant Fixing                   15\n",
      "Dermabrasion Laser Resurfacing Acne / Pimples Treatment                 14\n",
      "                                                                        ..\n",
      "93% 66 Feedback Madhapur, Hyderabad                                      1\n",
      "99% 4 Feedback Mansarover Garden, Delhi                                  1\n",
      "99% 23 Feedback Tambaram East, Chennai                                   1\n",
      "Periodontal Flap Surgery Flap Surgery Gum Disease Treatment/ Surgery     1\n",
      "Dental Crowns Dentofacial Orthopedics Invisible/Clear Braces             1\n",
      "Name: Miscellaneous_Info, Length: 3980, dtype: int64\n",
      "\n",
      "dftrain    5961\n",
      "dftest     1987\n",
      "Name: source, dtype: int64\n",
      "\n"
     ]
    }
   ],
   "source": [
    "for col in df.columns:\n",
    "    if df[col].dtype==\"object\":\n",
    "        print(df[col].value_counts())\n",
    "        print()"
   ]
  },
  {
   "cell_type": "raw",
   "metadata": {},
   "source": [
    "DATA filling"
   ]
  },
  {
   "cell_type": "code",
   "execution_count": 246,
   "metadata": {},
   "outputs": [],
   "source": [
    "#miscellaneous info is  an very important column unique to all docters so we cant fill it randomly\n",
    "#Rating similarly is \n",
    "#Place"
   ]
  },
  {
   "cell_type": "code",
   "execution_count": 247,
   "metadata": {},
   "outputs": [],
   "source": [
    "df[\"Miscellaneous_Info\"].fillna(\"missing\",inplace=True)"
   ]
  },
  {
   "cell_type": "code",
   "execution_count": 248,
   "metadata": {},
   "outputs": [],
   "source": [
    "#Lets remove the\"%\" in Rating\n",
    "df[\"Rating\"]=df[\"Rating\"].str.strip(\"%\")"
   ]
  },
  {
   "cell_type": "code",
   "execution_count": 249,
   "metadata": {},
   "outputs": [
    {
     "data": {
      "text/plain": [
       "Dentist             1838\n",
       "General Medicine    1617\n",
       "Dermatologists      1373\n",
       "Homeopath           1120\n",
       "Ayurveda            1037\n",
       "ENT Specialist       963\n",
       "Name: Profile, dtype: int64"
      ]
     },
     "execution_count": 249,
     "metadata": {},
     "output_type": "execute_result"
    }
   ],
   "source": [
    "df['Profile'].value_counts()"
   ]
  },
  {
   "cell_type": "code",
   "execution_count": 250,
   "metadata": {},
   "outputs": [],
   "source": [
    "df[\"Rating\"]=df[\"Rating\"].astype(float)"
   ]
  },
  {
   "cell_type": "code",
   "execution_count": 251,
   "metadata": {},
   "outputs": [
    {
     "data": {
      "text/plain": [
       "Profile\n",
       "Ayurveda            96.277108\n",
       "Dentist             97.698454\n",
       "Dermatologists      93.446281\n",
       "ENT Specialist      88.973236\n",
       "General Medicine    91.944238\n",
       "Homeopath           96.524496\n",
       "Name: Rating, dtype: float64"
      ]
     },
     "execution_count": 251,
     "metadata": {},
     "output_type": "execute_result"
    }
   ],
   "source": [
    "df.groupby('Profile')['Rating'].mean()"
   ]
  },
  {
   "cell_type": "code",
   "execution_count": 252,
   "metadata": {},
   "outputs": [],
   "source": [
    "def fillratings(cols):\n",
    "    Rating = cols[0]\n",
    "    Profile = cols[1]\n",
    "    \n",
    "    if pd.isnull(Rating):\n",
    "\n",
    "        if Profile == 'Ayurveda':\n",
    "            return '96'\n",
    "        elif Profile == 'Dentist':\n",
    "            return '98'\n",
    "        elif Profile=='Dermatologists':\n",
    "            return '93'\n",
    "        elif Profile=='ENT Specialist':\n",
    "            return '88'\n",
    "        elif Profile=='General Medicine':\n",
    "            return '93'\n",
    "        elif Profile=='Homeopath':\n",
    "            return '96'\n",
    "    else:\n",
    "        return Rating"
   ]
  },
  {
   "cell_type": "code",
   "execution_count": 253,
   "metadata": {},
   "outputs": [],
   "source": [
    "df['Rating']=df[['Rating','Profile']].apply(fillratings,axis=1)"
   ]
  },
  {
   "cell_type": "code",
   "execution_count": 254,
   "metadata": {},
   "outputs": [],
   "source": [
    "df[\"Rating\"]=df[\"Rating\"].astype(int)"
   ]
  },
  {
   "cell_type": "code",
   "execution_count": 296,
   "metadata": {},
   "outputs": [],
   "source": [
    "#the thing is i am filling guilty about filling it up randomly\n",
    "# nobody dies on me\n",
    "#humans life matter\n",
    "#all for r2score"
   ]
  },
  {
   "cell_type": "code",
   "execution_count": 256,
   "metadata": {},
   "outputs": [
    {
     "data": {
      "text/plain": [
       "Qualification            0\n",
       "Experience               0\n",
       "Rating                   0\n",
       "Place                   31\n",
       "Profile                  0\n",
       "Miscellaneous_Info       0\n",
       "Fees                  1987\n",
       "source                   0\n",
       "dtype: int64"
      ]
     },
     "execution_count": 256,
     "metadata": {},
     "output_type": "execute_result"
    }
   ],
   "source": [
    "df.isnull().sum()"
   ]
  },
  {
   "cell_type": "code",
   "execution_count": 257,
   "metadata": {},
   "outputs": [
    {
     "data": {
      "text/plain": [
       "Andheri West, Mumbai             97\n",
       "HSR Layout, Bangalore            97\n",
       "Dwarka, Delhi                    93\n",
       "Banjara Hills, Hyderabad         85\n",
       "Mulund West, Mumbai              81\n",
       "                                 ..\n",
       "TV Chalai, Thiruvananthapuram     1\n",
       "Cheranalloor, Ernakulam           1\n",
       "Jafferkhanpet, Chennai            1\n",
       "Bhandup, Mumbai                   1\n",
       "Mettupalayam, Coimbatore          1\n",
       "Name: Place, Length: 948, dtype: int64"
      ]
     },
     "execution_count": 257,
     "metadata": {},
     "output_type": "execute_result"
    }
   ],
   "source": [
    "df['Place'].value_counts()"
   ]
  },
  {
   "cell_type": "code",
   "execution_count": 258,
   "metadata": {},
   "outputs": [],
   "source": [
    "df['Place'].fillna('Andheri West, Mumbai',limit=10,inplace=True)"
   ]
  },
  {
   "cell_type": "code",
   "execution_count": 259,
   "metadata": {},
   "outputs": [],
   "source": [
    "df['Place'].fillna('HSR Layout, Bangalore',limit=10,inplace=True)"
   ]
  },
  {
   "cell_type": "code",
   "execution_count": 260,
   "metadata": {},
   "outputs": [],
   "source": [
    "df['Place'].fillna('Dwarka, Delhi',limit=11,inplace=True)"
   ]
  },
  {
   "cell_type": "code",
   "execution_count": 261,
   "metadata": {},
   "outputs": [
    {
     "data": {
      "text/plain": [
       "Andheri West, Mumbai             107\n",
       "HSR Layout, Bangalore            107\n",
       "Dwarka, Delhi                    104\n",
       "Banjara Hills, Hyderabad          85\n",
       "Mulund West, Mumbai               81\n",
       "                                ... \n",
       "TV Chalai, Thiruvananthapuram      1\n",
       "Cheranalloor, Ernakulam            1\n",
       "Jafferkhanpet, Chennai             1\n",
       "Bhandup, Mumbai                    1\n",
       "Mettupalayam, Coimbatore           1\n",
       "Name: Place, Length: 948, dtype: int64"
      ]
     },
     "execution_count": 261,
     "metadata": {},
     "output_type": "execute_result"
    }
   ],
   "source": [
    "df['Place'].value_counts()"
   ]
  },
  {
   "cell_type": "code",
   "execution_count": 262,
   "metadata": {},
   "outputs": [
    {
     "data": {
      "text/plain": [
       "Qualification            0\n",
       "Experience               0\n",
       "Rating                   0\n",
       "Place                    0\n",
       "Profile                  0\n",
       "Miscellaneous_Info       0\n",
       "Fees                  1987\n",
       "source                   0\n",
       "dtype: int64"
      ]
     },
     "execution_count": 262,
     "metadata": {},
     "output_type": "execute_result"
    }
   ],
   "source": [
    "df.isnull().sum()"
   ]
  },
  {
   "cell_type": "code",
   "execution_count": 263,
   "metadata": {},
   "outputs": [],
   "source": [
    "def city(x):\n",
    "    text=str(x).split(' ')\n",
    "    return text[-1]"
   ]
  },
  {
   "cell_type": "code",
   "execution_count": 264,
   "metadata": {},
   "outputs": [],
   "source": [
    "df['Cities']=df['Place'].apply(city)"
   ]
  },
  {
   "cell_type": "code",
   "execution_count": 266,
   "metadata": {},
   "outputs": [
    {
     "data": {
      "text/plain": [
       "Bangalore             1688\n",
       "Mumbai                1618\n",
       "Delhi                 1613\n",
       "Hyderabad             1284\n",
       "Chennai               1142\n",
       "Coimbatore             298\n",
       "Ernakulam              201\n",
       "Thiruvananthapuram     103\n",
       "e                        1\n",
       "Name: Cities, dtype: int64"
      ]
     },
     "execution_count": 266,
     "metadata": {},
     "output_type": "execute_result"
    }
   ],
   "source": [
    "df.Cities.value_counts()"
   ]
  },
  {
   "cell_type": "code",
   "execution_count": 268,
   "metadata": {},
   "outputs": [],
   "source": [
    "#change 'e' to banglore\n",
    "def change(x):\n",
    "    if x=='e':\n",
    "        return 'Bangalore'\n",
    "    else:\n",
    "        return x"
   ]
  },
  {
   "cell_type": "code",
   "execution_count": 269,
   "metadata": {},
   "outputs": [],
   "source": [
    "df['Cities']=df['Cities'].apply(change)"
   ]
  },
  {
   "cell_type": "code",
   "execution_count": null,
   "metadata": {},
   "outputs": [],
   "source": []
  },
  {
   "cell_type": "code",
   "execution_count": 270,
   "metadata": {},
   "outputs": [],
   "source": [
    "#simplicity of data"
   ]
  },
  {
   "cell_type": "code",
   "execution_count": 271,
   "metadata": {},
   "outputs": [],
   "source": [
    "df['Experience'] = df['Experience'].str.replace('years experience','').astype(int)"
   ]
  },
  {
   "cell_type": "code",
   "execution_count": null,
   "metadata": {},
   "outputs": [],
   "source": []
  },
  {
   "cell_type": "code",
   "execution_count": 272,
   "metadata": {},
   "outputs": [],
   "source": [
    "# Define function to return the Feedback numbers in miscellaneous info\n",
    "import re\n",
    "def find_feedback(df):\n",
    "    result = re.search(r' (.*?) Feedback',df)\n",
    "    if result:\n",
    "        return int(result.group(1))\n",
    "    else:\n",
    "        return 0\n",
    "    \n",
    "    \n",
    "df['feedback_num'] = df.Miscellaneous_Info.apply(lambda x: find_feedback(x) if '%' in str(x) else 0)\n",
    "\n"
   ]
  },
  {
   "cell_type": "code",
   "execution_count": null,
   "metadata": {},
   "outputs": [],
   "source": []
  },
  {
   "cell_type": "code",
   "execution_count": 273,
   "metadata": {},
   "outputs": [
    {
     "data": {
      "text/html": [
       "<div>\n",
       "<style scoped>\n",
       "    .dataframe tbody tr th:only-of-type {\n",
       "        vertical-align: middle;\n",
       "    }\n",
       "\n",
       "    .dataframe tbody tr th {\n",
       "        vertical-align: top;\n",
       "    }\n",
       "\n",
       "    .dataframe thead th {\n",
       "        text-align: right;\n",
       "    }\n",
       "</style>\n",
       "<table border=\"1\" class=\"dataframe\">\n",
       "  <thead>\n",
       "    <tr style=\"text-align: right;\">\n",
       "      <th></th>\n",
       "      <th>Qualification</th>\n",
       "      <th>Experience</th>\n",
       "      <th>Rating</th>\n",
       "      <th>Place</th>\n",
       "      <th>Profile</th>\n",
       "      <th>Miscellaneous_Info</th>\n",
       "      <th>Fees</th>\n",
       "      <th>source</th>\n",
       "      <th>Cities</th>\n",
       "      <th>feedback_num</th>\n",
       "    </tr>\n",
       "  </thead>\n",
       "  <tbody>\n",
       "    <tr>\n",
       "      <th>0</th>\n",
       "      <td>BHMS, MD - Homeopathy</td>\n",
       "      <td>24</td>\n",
       "      <td>100</td>\n",
       "      <td>Kakkanad, Ernakulam</td>\n",
       "      <td>Homeopath</td>\n",
       "      <td>100% 16 Feedback Kakkanad, Ernakulam</td>\n",
       "      <td>100.0</td>\n",
       "      <td>dftrain</td>\n",
       "      <td>Ernakulam</td>\n",
       "      <td>16</td>\n",
       "    </tr>\n",
       "    <tr>\n",
       "      <th>1</th>\n",
       "      <td>BAMS, MD - Ayurveda Medicine</td>\n",
       "      <td>12</td>\n",
       "      <td>98</td>\n",
       "      <td>Whitefield, Bangalore</td>\n",
       "      <td>Ayurveda</td>\n",
       "      <td>98% 76 Feedback Whitefield, Bangalore</td>\n",
       "      <td>350.0</td>\n",
       "      <td>dftrain</td>\n",
       "      <td>Bangalore</td>\n",
       "      <td>76</td>\n",
       "    </tr>\n",
       "    <tr>\n",
       "      <th>2</th>\n",
       "      <td>MBBS, MS - Otorhinolaryngology</td>\n",
       "      <td>9</td>\n",
       "      <td>88</td>\n",
       "      <td>Mathikere - BEL, Bangalore</td>\n",
       "      <td>ENT Specialist</td>\n",
       "      <td>missing</td>\n",
       "      <td>300.0</td>\n",
       "      <td>dftrain</td>\n",
       "      <td>Bangalore</td>\n",
       "      <td>0</td>\n",
       "    </tr>\n",
       "    <tr>\n",
       "      <th>3</th>\n",
       "      <td>BSc - Zoology, BAMS</td>\n",
       "      <td>12</td>\n",
       "      <td>96</td>\n",
       "      <td>Bannerghatta Road, Bangalore</td>\n",
       "      <td>Ayurveda</td>\n",
       "      <td>Bannerghatta Road, Bangalore ₹250 Available on...</td>\n",
       "      <td>250.0</td>\n",
       "      <td>dftrain</td>\n",
       "      <td>Bangalore</td>\n",
       "      <td>0</td>\n",
       "    </tr>\n",
       "    <tr>\n",
       "      <th>4</th>\n",
       "      <td>BAMS</td>\n",
       "      <td>20</td>\n",
       "      <td>100</td>\n",
       "      <td>Keelkattalai, Chennai</td>\n",
       "      <td>Ayurveda</td>\n",
       "      <td>100% 4 Feedback Keelkattalai, Chennai</td>\n",
       "      <td>250.0</td>\n",
       "      <td>dftrain</td>\n",
       "      <td>Chennai</td>\n",
       "      <td>4</td>\n",
       "    </tr>\n",
       "    <tr>\n",
       "      <th>...</th>\n",
       "      <td>...</td>\n",
       "      <td>...</td>\n",
       "      <td>...</td>\n",
       "      <td>...</td>\n",
       "      <td>...</td>\n",
       "      <td>...</td>\n",
       "      <td>...</td>\n",
       "      <td>...</td>\n",
       "      <td>...</td>\n",
       "      <td>...</td>\n",
       "    </tr>\n",
       "    <tr>\n",
       "      <th>7943</th>\n",
       "      <td>BAMS, Doctor of Medicine</td>\n",
       "      <td>10</td>\n",
       "      <td>96</td>\n",
       "      <td>Basavanagudi, Bangalore</td>\n",
       "      <td>Ayurveda</td>\n",
       "      <td>missing</td>\n",
       "      <td>NaN</td>\n",
       "      <td>dftest</td>\n",
       "      <td>Bangalore</td>\n",
       "      <td>0</td>\n",
       "    </tr>\n",
       "    <tr>\n",
       "      <th>7944</th>\n",
       "      <td>MD - Dermatology , Venereology &amp; Leprosy, MBBS</td>\n",
       "      <td>4</td>\n",
       "      <td>93</td>\n",
       "      <td>Choolai, Chennai</td>\n",
       "      <td>Dermatologists</td>\n",
       "      <td>missing</td>\n",
       "      <td>NaN</td>\n",
       "      <td>dftest</td>\n",
       "      <td>Chennai</td>\n",
       "      <td>0</td>\n",
       "    </tr>\n",
       "    <tr>\n",
       "      <th>7945</th>\n",
       "      <td>MBBS, MD / MS - Obstetrics &amp; Gynaecology</td>\n",
       "      <td>9</td>\n",
       "      <td>93</td>\n",
       "      <td>Porur, Chennai</td>\n",
       "      <td>General Medicine</td>\n",
       "      <td>missing</td>\n",
       "      <td>NaN</td>\n",
       "      <td>dftest</td>\n",
       "      <td>Chennai</td>\n",
       "      <td>0</td>\n",
       "    </tr>\n",
       "    <tr>\n",
       "      <th>7946</th>\n",
       "      <td>BDS</td>\n",
       "      <td>12</td>\n",
       "      <td>98</td>\n",
       "      <td>Arekere, Bangalore</td>\n",
       "      <td>Dentist</td>\n",
       "      <td>RCT - Root Canal Treatment Root Canal Treatmen...</td>\n",
       "      <td>NaN</td>\n",
       "      <td>dftest</td>\n",
       "      <td>Bangalore</td>\n",
       "      <td>0</td>\n",
       "    </tr>\n",
       "    <tr>\n",
       "      <th>7947</th>\n",
       "      <td>MBBS, MD - Dermatology , Venereology &amp; Leprosy</td>\n",
       "      <td>8</td>\n",
       "      <td>93</td>\n",
       "      <td>Pallikaranai, Chennai</td>\n",
       "      <td>Dermatologists</td>\n",
       "      <td>1 Feedback Pallikaranai, Chennai ₹500</td>\n",
       "      <td>NaN</td>\n",
       "      <td>dftest</td>\n",
       "      <td>Chennai</td>\n",
       "      <td>0</td>\n",
       "    </tr>\n",
       "  </tbody>\n",
       "</table>\n",
       "<p>7948 rows × 10 columns</p>\n",
       "</div>"
      ],
      "text/plain": [
       "                                       Qualification  Experience  Rating  \\\n",
       "0                              BHMS, MD - Homeopathy          24     100   \n",
       "1                       BAMS, MD - Ayurveda Medicine          12      98   \n",
       "2                     MBBS, MS - Otorhinolaryngology           9      88   \n",
       "3                                BSc - Zoology, BAMS          12      96   \n",
       "4                                               BAMS          20     100   \n",
       "...                                              ...         ...     ...   \n",
       "7943                        BAMS, Doctor of Medicine          10      96   \n",
       "7944  MD - Dermatology , Venereology & Leprosy, MBBS           4      93   \n",
       "7945        MBBS, MD / MS - Obstetrics & Gynaecology           9      93   \n",
       "7946                                             BDS          12      98   \n",
       "7947  MBBS, MD - Dermatology , Venereology & Leprosy           8      93   \n",
       "\n",
       "                             Place           Profile  \\\n",
       "0              Kakkanad, Ernakulam         Homeopath   \n",
       "1            Whitefield, Bangalore          Ayurveda   \n",
       "2       Mathikere - BEL, Bangalore    ENT Specialist   \n",
       "3     Bannerghatta Road, Bangalore          Ayurveda   \n",
       "4            Keelkattalai, Chennai          Ayurveda   \n",
       "...                            ...               ...   \n",
       "7943       Basavanagudi, Bangalore          Ayurveda   \n",
       "7944              Choolai, Chennai    Dermatologists   \n",
       "7945                Porur, Chennai  General Medicine   \n",
       "7946            Arekere, Bangalore           Dentist   \n",
       "7947         Pallikaranai, Chennai    Dermatologists   \n",
       "\n",
       "                                     Miscellaneous_Info   Fees   source  \\\n",
       "0                  100% 16 Feedback Kakkanad, Ernakulam  100.0  dftrain   \n",
       "1                 98% 76 Feedback Whitefield, Bangalore  350.0  dftrain   \n",
       "2                                               missing  300.0  dftrain   \n",
       "3     Bannerghatta Road, Bangalore ₹250 Available on...  250.0  dftrain   \n",
       "4                 100% 4 Feedback Keelkattalai, Chennai  250.0  dftrain   \n",
       "...                                                 ...    ...      ...   \n",
       "7943                                            missing    NaN   dftest   \n",
       "7944                                            missing    NaN   dftest   \n",
       "7945                                            missing    NaN   dftest   \n",
       "7946  RCT - Root Canal Treatment Root Canal Treatmen...    NaN   dftest   \n",
       "7947              1 Feedback Pallikaranai, Chennai ₹500    NaN   dftest   \n",
       "\n",
       "         Cities  feedback_num  \n",
       "0     Ernakulam            16  \n",
       "1     Bangalore            76  \n",
       "2     Bangalore             0  \n",
       "3     Bangalore             0  \n",
       "4       Chennai             4  \n",
       "...         ...           ...  \n",
       "7943  Bangalore             0  \n",
       "7944    Chennai             0  \n",
       "7945    Chennai             0  \n",
       "7946  Bangalore             0  \n",
       "7947    Chennai             0  \n",
       "\n",
       "[7948 rows x 10 columns]"
      ]
     },
     "execution_count": 273,
     "metadata": {},
     "output_type": "execute_result"
    }
   ],
   "source": [
    "df"
   ]
  },
  {
   "cell_type": "code",
   "execution_count": 274,
   "metadata": {},
   "outputs": [],
   "source": [
    "#the thing is we want to get most out of this messy Miscellaneous_Info"
   ]
  },
  {
   "cell_type": "code",
   "execution_count": null,
   "metadata": {},
   "outputs": [],
   "source": []
  },
  {
   "cell_type": "code",
   "execution_count": 275,
   "metadata": {},
   "outputs": [
    {
     "data": {
      "text/html": [
       "<div>\n",
       "<style scoped>\n",
       "    .dataframe tbody tr th:only-of-type {\n",
       "        vertical-align: middle;\n",
       "    }\n",
       "\n",
       "    .dataframe tbody tr th {\n",
       "        vertical-align: top;\n",
       "    }\n",
       "\n",
       "    .dataframe thead th {\n",
       "        text-align: right;\n",
       "    }\n",
       "</style>\n",
       "<table border=\"1\" class=\"dataframe\">\n",
       "  <thead>\n",
       "    <tr style=\"text-align: right;\">\n",
       "      <th></th>\n",
       "      <th>Qualification</th>\n",
       "      <th>Experience</th>\n",
       "      <th>Rating</th>\n",
       "      <th>Place</th>\n",
       "      <th>Profile</th>\n",
       "      <th>Miscellaneous_Info</th>\n",
       "      <th>Fees</th>\n",
       "      <th>source</th>\n",
       "      <th>Cities</th>\n",
       "      <th>feedback_num</th>\n",
       "    </tr>\n",
       "  </thead>\n",
       "  <tbody>\n",
       "    <tr>\n",
       "      <th>5961</th>\n",
       "      <td>MBBS</td>\n",
       "      <td>35</td>\n",
       "      <td>93</td>\n",
       "      <td>Ghatkopar East, Mumbai</td>\n",
       "      <td>General Medicine</td>\n",
       "      <td>missing</td>\n",
       "      <td>NaN</td>\n",
       "      <td>dftest</td>\n",
       "      <td>Mumbai</td>\n",
       "      <td>0</td>\n",
       "    </tr>\n",
       "    <tr>\n",
       "      <th>5962</th>\n",
       "      <td>MBBS, Diploma in Otorhinolaryngology (DLO)</td>\n",
       "      <td>31</td>\n",
       "      <td>88</td>\n",
       "      <td>West Marredpally, Hyderabad</td>\n",
       "      <td>ENT Specialist</td>\n",
       "      <td>missing</td>\n",
       "      <td>NaN</td>\n",
       "      <td>dftest</td>\n",
       "      <td>Hyderabad</td>\n",
       "      <td>0</td>\n",
       "    </tr>\n",
       "    <tr>\n",
       "      <th>5963</th>\n",
       "      <td>MBBS, DDVL</td>\n",
       "      <td>40</td>\n",
       "      <td>70</td>\n",
       "      <td>KK Nagar, Chennai</td>\n",
       "      <td>Dermatologists</td>\n",
       "      <td>70% 4 Feedback KK Nagar, Chennai</td>\n",
       "      <td>NaN</td>\n",
       "      <td>dftest</td>\n",
       "      <td>Chennai</td>\n",
       "      <td>4</td>\n",
       "    </tr>\n",
       "    <tr>\n",
       "      <th>5964</th>\n",
       "      <td>BAMS</td>\n",
       "      <td>0</td>\n",
       "      <td>96</td>\n",
       "      <td>New Ashok Nagar, Delhi</td>\n",
       "      <td>Ayurveda</td>\n",
       "      <td>missing</td>\n",
       "      <td>NaN</td>\n",
       "      <td>dftest</td>\n",
       "      <td>Delhi</td>\n",
       "      <td>0</td>\n",
       "    </tr>\n",
       "    <tr>\n",
       "      <th>5965</th>\n",
       "      <td>BDS, MDS - Conservative Dentistry &amp; Endodontics</td>\n",
       "      <td>16</td>\n",
       "      <td>100</td>\n",
       "      <td>Kanakpura Road, Bangalore</td>\n",
       "      <td>Dentist</td>\n",
       "      <td>General Dentistry Conservative Dentistry Cosme...</td>\n",
       "      <td>NaN</td>\n",
       "      <td>dftest</td>\n",
       "      <td>Bangalore</td>\n",
       "      <td>0</td>\n",
       "    </tr>\n",
       "    <tr>\n",
       "      <th>...</th>\n",
       "      <td>...</td>\n",
       "      <td>...</td>\n",
       "      <td>...</td>\n",
       "      <td>...</td>\n",
       "      <td>...</td>\n",
       "      <td>...</td>\n",
       "      <td>...</td>\n",
       "      <td>...</td>\n",
       "      <td>...</td>\n",
       "      <td>...</td>\n",
       "    </tr>\n",
       "    <tr>\n",
       "      <th>7943</th>\n",
       "      <td>BAMS, Doctor of Medicine</td>\n",
       "      <td>10</td>\n",
       "      <td>96</td>\n",
       "      <td>Basavanagudi, Bangalore</td>\n",
       "      <td>Ayurveda</td>\n",
       "      <td>missing</td>\n",
       "      <td>NaN</td>\n",
       "      <td>dftest</td>\n",
       "      <td>Bangalore</td>\n",
       "      <td>0</td>\n",
       "    </tr>\n",
       "    <tr>\n",
       "      <th>7944</th>\n",
       "      <td>MD - Dermatology , Venereology &amp; Leprosy, MBBS</td>\n",
       "      <td>4</td>\n",
       "      <td>93</td>\n",
       "      <td>Choolai, Chennai</td>\n",
       "      <td>Dermatologists</td>\n",
       "      <td>missing</td>\n",
       "      <td>NaN</td>\n",
       "      <td>dftest</td>\n",
       "      <td>Chennai</td>\n",
       "      <td>0</td>\n",
       "    </tr>\n",
       "    <tr>\n",
       "      <th>7945</th>\n",
       "      <td>MBBS, MD / MS - Obstetrics &amp; Gynaecology</td>\n",
       "      <td>9</td>\n",
       "      <td>93</td>\n",
       "      <td>Porur, Chennai</td>\n",
       "      <td>General Medicine</td>\n",
       "      <td>missing</td>\n",
       "      <td>NaN</td>\n",
       "      <td>dftest</td>\n",
       "      <td>Chennai</td>\n",
       "      <td>0</td>\n",
       "    </tr>\n",
       "    <tr>\n",
       "      <th>7946</th>\n",
       "      <td>BDS</td>\n",
       "      <td>12</td>\n",
       "      <td>98</td>\n",
       "      <td>Arekere, Bangalore</td>\n",
       "      <td>Dentist</td>\n",
       "      <td>RCT - Root Canal Treatment Root Canal Treatmen...</td>\n",
       "      <td>NaN</td>\n",
       "      <td>dftest</td>\n",
       "      <td>Bangalore</td>\n",
       "      <td>0</td>\n",
       "    </tr>\n",
       "    <tr>\n",
       "      <th>7947</th>\n",
       "      <td>MBBS, MD - Dermatology , Venereology &amp; Leprosy</td>\n",
       "      <td>8</td>\n",
       "      <td>93</td>\n",
       "      <td>Pallikaranai, Chennai</td>\n",
       "      <td>Dermatologists</td>\n",
       "      <td>1 Feedback Pallikaranai, Chennai ₹500</td>\n",
       "      <td>NaN</td>\n",
       "      <td>dftest</td>\n",
       "      <td>Chennai</td>\n",
       "      <td>0</td>\n",
       "    </tr>\n",
       "  </tbody>\n",
       "</table>\n",
       "<p>1987 rows × 10 columns</p>\n",
       "</div>"
      ],
      "text/plain": [
       "                                        Qualification  Experience  Rating  \\\n",
       "5961                                             MBBS          35      93   \n",
       "5962       MBBS, Diploma in Otorhinolaryngology (DLO)          31      88   \n",
       "5963                                       MBBS, DDVL          40      70   \n",
       "5964                                             BAMS           0      96   \n",
       "5965  BDS, MDS - Conservative Dentistry & Endodontics          16     100   \n",
       "...                                               ...         ...     ...   \n",
       "7943                         BAMS, Doctor of Medicine          10      96   \n",
       "7944   MD - Dermatology , Venereology & Leprosy, MBBS           4      93   \n",
       "7945         MBBS, MD / MS - Obstetrics & Gynaecology           9      93   \n",
       "7946                                              BDS          12      98   \n",
       "7947   MBBS, MD - Dermatology , Venereology & Leprosy           8      93   \n",
       "\n",
       "                            Place           Profile  \\\n",
       "5961       Ghatkopar East, Mumbai  General Medicine   \n",
       "5962  West Marredpally, Hyderabad    ENT Specialist   \n",
       "5963            KK Nagar, Chennai    Dermatologists   \n",
       "5964       New Ashok Nagar, Delhi          Ayurveda   \n",
       "5965    Kanakpura Road, Bangalore           Dentist   \n",
       "...                           ...               ...   \n",
       "7943      Basavanagudi, Bangalore          Ayurveda   \n",
       "7944             Choolai, Chennai    Dermatologists   \n",
       "7945               Porur, Chennai  General Medicine   \n",
       "7946           Arekere, Bangalore           Dentist   \n",
       "7947        Pallikaranai, Chennai    Dermatologists   \n",
       "\n",
       "                                     Miscellaneous_Info  Fees  source  \\\n",
       "5961                                            missing   NaN  dftest   \n",
       "5962                                            missing   NaN  dftest   \n",
       "5963                   70% 4 Feedback KK Nagar, Chennai   NaN  dftest   \n",
       "5964                                            missing   NaN  dftest   \n",
       "5965  General Dentistry Conservative Dentistry Cosme...   NaN  dftest   \n",
       "...                                                 ...   ...     ...   \n",
       "7943                                            missing   NaN  dftest   \n",
       "7944                                            missing   NaN  dftest   \n",
       "7945                                            missing   NaN  dftest   \n",
       "7946  RCT - Root Canal Treatment Root Canal Treatmen...   NaN  dftest   \n",
       "7947              1 Feedback Pallikaranai, Chennai ₹500   NaN  dftest   \n",
       "\n",
       "         Cities  feedback_num  \n",
       "5961     Mumbai             0  \n",
       "5962  Hyderabad             0  \n",
       "5963    Chennai             4  \n",
       "5964      Delhi             0  \n",
       "5965  Bangalore             0  \n",
       "...         ...           ...  \n",
       "7943  Bangalore             0  \n",
       "7944    Chennai             0  \n",
       "7945    Chennai             0  \n",
       "7946  Bangalore             0  \n",
       "7947    Chennai             0  \n",
       "\n",
       "[1987 rows x 10 columns]"
      ]
     },
     "execution_count": 275,
     "metadata": {},
     "output_type": "execute_result"
    }
   ],
   "source": [
    "df.loc[df[\"Fees\"].isnull()]"
   ]
  },
  {
   "cell_type": "code",
   "execution_count": 276,
   "metadata": {},
   "outputs": [],
   "source": [
    "df.drop('Place',axis=1,inplace=True) #too many valuecounts"
   ]
  },
  {
   "cell_type": "code",
   "execution_count": 277,
   "metadata": {
    "scrolled": true
   },
   "outputs": [
    {
     "data": {
      "text/html": [
       "<div>\n",
       "<style scoped>\n",
       "    .dataframe tbody tr th:only-of-type {\n",
       "        vertical-align: middle;\n",
       "    }\n",
       "\n",
       "    .dataframe tbody tr th {\n",
       "        vertical-align: top;\n",
       "    }\n",
       "\n",
       "    .dataframe thead th {\n",
       "        text-align: right;\n",
       "    }\n",
       "</style>\n",
       "<table border=\"1\" class=\"dataframe\">\n",
       "  <thead>\n",
       "    <tr style=\"text-align: right;\">\n",
       "      <th></th>\n",
       "      <th>Qualification</th>\n",
       "      <th>Experience</th>\n",
       "      <th>Rating</th>\n",
       "      <th>Profile</th>\n",
       "      <th>Miscellaneous_Info</th>\n",
       "      <th>Fees</th>\n",
       "      <th>source</th>\n",
       "      <th>Cities</th>\n",
       "      <th>feedback_num</th>\n",
       "    </tr>\n",
       "  </thead>\n",
       "  <tbody>\n",
       "    <tr>\n",
       "      <th>0</th>\n",
       "      <td>BHMS, MD - Homeopathy</td>\n",
       "      <td>24</td>\n",
       "      <td>100</td>\n",
       "      <td>Homeopath</td>\n",
       "      <td>100% 16 Feedback Kakkanad, Ernakulam</td>\n",
       "      <td>100.0</td>\n",
       "      <td>dftrain</td>\n",
       "      <td>Ernakulam</td>\n",
       "      <td>16</td>\n",
       "    </tr>\n",
       "    <tr>\n",
       "      <th>1</th>\n",
       "      <td>BAMS, MD - Ayurveda Medicine</td>\n",
       "      <td>12</td>\n",
       "      <td>98</td>\n",
       "      <td>Ayurveda</td>\n",
       "      <td>98% 76 Feedback Whitefield, Bangalore</td>\n",
       "      <td>350.0</td>\n",
       "      <td>dftrain</td>\n",
       "      <td>Bangalore</td>\n",
       "      <td>76</td>\n",
       "    </tr>\n",
       "    <tr>\n",
       "      <th>2</th>\n",
       "      <td>MBBS, MS - Otorhinolaryngology</td>\n",
       "      <td>9</td>\n",
       "      <td>88</td>\n",
       "      <td>ENT Specialist</td>\n",
       "      <td>missing</td>\n",
       "      <td>300.0</td>\n",
       "      <td>dftrain</td>\n",
       "      <td>Bangalore</td>\n",
       "      <td>0</td>\n",
       "    </tr>\n",
       "    <tr>\n",
       "      <th>3</th>\n",
       "      <td>BSc - Zoology, BAMS</td>\n",
       "      <td>12</td>\n",
       "      <td>96</td>\n",
       "      <td>Ayurveda</td>\n",
       "      <td>Bannerghatta Road, Bangalore ₹250 Available on...</td>\n",
       "      <td>250.0</td>\n",
       "      <td>dftrain</td>\n",
       "      <td>Bangalore</td>\n",
       "      <td>0</td>\n",
       "    </tr>\n",
       "    <tr>\n",
       "      <th>4</th>\n",
       "      <td>BAMS</td>\n",
       "      <td>20</td>\n",
       "      <td>100</td>\n",
       "      <td>Ayurveda</td>\n",
       "      <td>100% 4 Feedback Keelkattalai, Chennai</td>\n",
       "      <td>250.0</td>\n",
       "      <td>dftrain</td>\n",
       "      <td>Chennai</td>\n",
       "      <td>4</td>\n",
       "    </tr>\n",
       "    <tr>\n",
       "      <th>...</th>\n",
       "      <td>...</td>\n",
       "      <td>...</td>\n",
       "      <td>...</td>\n",
       "      <td>...</td>\n",
       "      <td>...</td>\n",
       "      <td>...</td>\n",
       "      <td>...</td>\n",
       "      <td>...</td>\n",
       "      <td>...</td>\n",
       "    </tr>\n",
       "    <tr>\n",
       "      <th>7943</th>\n",
       "      <td>BAMS, Doctor of Medicine</td>\n",
       "      <td>10</td>\n",
       "      <td>96</td>\n",
       "      <td>Ayurveda</td>\n",
       "      <td>missing</td>\n",
       "      <td>NaN</td>\n",
       "      <td>dftest</td>\n",
       "      <td>Bangalore</td>\n",
       "      <td>0</td>\n",
       "    </tr>\n",
       "    <tr>\n",
       "      <th>7944</th>\n",
       "      <td>MD - Dermatology , Venereology &amp; Leprosy, MBBS</td>\n",
       "      <td>4</td>\n",
       "      <td>93</td>\n",
       "      <td>Dermatologists</td>\n",
       "      <td>missing</td>\n",
       "      <td>NaN</td>\n",
       "      <td>dftest</td>\n",
       "      <td>Chennai</td>\n",
       "      <td>0</td>\n",
       "    </tr>\n",
       "    <tr>\n",
       "      <th>7945</th>\n",
       "      <td>MBBS, MD / MS - Obstetrics &amp; Gynaecology</td>\n",
       "      <td>9</td>\n",
       "      <td>93</td>\n",
       "      <td>General Medicine</td>\n",
       "      <td>missing</td>\n",
       "      <td>NaN</td>\n",
       "      <td>dftest</td>\n",
       "      <td>Chennai</td>\n",
       "      <td>0</td>\n",
       "    </tr>\n",
       "    <tr>\n",
       "      <th>7946</th>\n",
       "      <td>BDS</td>\n",
       "      <td>12</td>\n",
       "      <td>98</td>\n",
       "      <td>Dentist</td>\n",
       "      <td>RCT - Root Canal Treatment Root Canal Treatmen...</td>\n",
       "      <td>NaN</td>\n",
       "      <td>dftest</td>\n",
       "      <td>Bangalore</td>\n",
       "      <td>0</td>\n",
       "    </tr>\n",
       "    <tr>\n",
       "      <th>7947</th>\n",
       "      <td>MBBS, MD - Dermatology , Venereology &amp; Leprosy</td>\n",
       "      <td>8</td>\n",
       "      <td>93</td>\n",
       "      <td>Dermatologists</td>\n",
       "      <td>1 Feedback Pallikaranai, Chennai ₹500</td>\n",
       "      <td>NaN</td>\n",
       "      <td>dftest</td>\n",
       "      <td>Chennai</td>\n",
       "      <td>0</td>\n",
       "    </tr>\n",
       "  </tbody>\n",
       "</table>\n",
       "<p>7948 rows × 9 columns</p>\n",
       "</div>"
      ],
      "text/plain": [
       "                                       Qualification  Experience  Rating  \\\n",
       "0                              BHMS, MD - Homeopathy          24     100   \n",
       "1                       BAMS, MD - Ayurveda Medicine          12      98   \n",
       "2                     MBBS, MS - Otorhinolaryngology           9      88   \n",
       "3                                BSc - Zoology, BAMS          12      96   \n",
       "4                                               BAMS          20     100   \n",
       "...                                              ...         ...     ...   \n",
       "7943                        BAMS, Doctor of Medicine          10      96   \n",
       "7944  MD - Dermatology , Venereology & Leprosy, MBBS           4      93   \n",
       "7945        MBBS, MD / MS - Obstetrics & Gynaecology           9      93   \n",
       "7946                                             BDS          12      98   \n",
       "7947  MBBS, MD - Dermatology , Venereology & Leprosy           8      93   \n",
       "\n",
       "               Profile                                 Miscellaneous_Info  \\\n",
       "0            Homeopath               100% 16 Feedback Kakkanad, Ernakulam   \n",
       "1             Ayurveda              98% 76 Feedback Whitefield, Bangalore   \n",
       "2       ENT Specialist                                            missing   \n",
       "3             Ayurveda  Bannerghatta Road, Bangalore ₹250 Available on...   \n",
       "4             Ayurveda              100% 4 Feedback Keelkattalai, Chennai   \n",
       "...                ...                                                ...   \n",
       "7943          Ayurveda                                            missing   \n",
       "7944    Dermatologists                                            missing   \n",
       "7945  General Medicine                                            missing   \n",
       "7946           Dentist  RCT - Root Canal Treatment Root Canal Treatmen...   \n",
       "7947    Dermatologists              1 Feedback Pallikaranai, Chennai ₹500   \n",
       "\n",
       "       Fees   source     Cities  feedback_num  \n",
       "0     100.0  dftrain  Ernakulam            16  \n",
       "1     350.0  dftrain  Bangalore            76  \n",
       "2     300.0  dftrain  Bangalore             0  \n",
       "3     250.0  dftrain  Bangalore             0  \n",
       "4     250.0  dftrain    Chennai             4  \n",
       "...     ...      ...        ...           ...  \n",
       "7943    NaN   dftest  Bangalore             0  \n",
       "7944    NaN   dftest    Chennai             0  \n",
       "7945    NaN   dftest    Chennai             0  \n",
       "7946    NaN   dftest  Bangalore             0  \n",
       "7947    NaN   dftest    Chennai             0  \n",
       "\n",
       "[7948 rows x 9 columns]"
      ]
     },
     "execution_count": 277,
     "metadata": {},
     "output_type": "execute_result"
    }
   ],
   "source": [
    "df"
   ]
  },
  {
   "cell_type": "code",
   "execution_count": 278,
   "metadata": {},
   "outputs": [],
   "source": [
    "#lets drop the \"Miscellaneous_Info\" column cause it is too Miscellanous\n",
    "#cause i dont know how to get more out of this column\n",
    "df.drop(columns=[\"Miscellaneous_Info\"],inplace=True)"
   ]
  },
  {
   "cell_type": "code",
   "execution_count": 281,
   "metadata": {},
   "outputs": [
    {
     "data": {
      "text/plain": [
       "<matplotlib.axes._subplots.AxesSubplot at 0x22769dc3688>"
      ]
     },
     "execution_count": 281,
     "metadata": {},
     "output_type": "execute_result"
    },
    {
     "data": {
      "image/png": "[encoded data removed]",
      "text/plain": [
       "<Figure size 1152x576 with 1 Axes>"
      ]
     },
     "metadata": {
      "needs_background": "light"
     },
     "output_type": "display_data"
    }
   ],
   "source": [
    "plt.figure(figsize=(16,8))\n",
    "sns.barplot(x=\"Profile\",y=\"Fees\",data=df)"
   ]
  },
  {
   "cell_type": "code",
   "execution_count": 280,
   "metadata": {},
   "outputs": [
    {
     "data": {
      "text/plain": [
       "(array([0, 1, 2, 3, 4, 5, 6, 7]), <a list of 8 Text xticklabel objects>)"
      ]
     },
     "execution_count": 280,
     "metadata": {},
     "output_type": "execute_result"
    },
    {
     "data": {
      "image/png": "[encoded data removed]",
      "text/plain": [
       "<Figure size 1152x576 with 1 Axes>"
      ]
     },
     "metadata": {
      "needs_background": "light"
     },
     "output_type": "display_data"
    }
   ],
   "source": [
    "plt.figure(figsize=(16,8))\n",
    "sns.barplot(x=\"Cities\",y=\"Fees\",data=df)\n",
    "plt.xticks(rotation = 90)"
   ]
  },
  {
   "cell_type": "code",
   "execution_count": 282,
   "metadata": {},
   "outputs": [],
   "source": [
    "#needed more data cleaning :(\n"
   ]
  },
  {
   "cell_type": "code",
   "execution_count": 283,
   "metadata": {},
   "outputs": [
    {
     "data": {
      "text/plain": [
       "Qualification     object\n",
       "Experience         int32\n",
       "Rating             int32\n",
       "Profile           object\n",
       "Fees             float64\n",
       "source            object\n",
       "Cities            object\n",
       "feedback_num       int64\n",
       "dtype: object"
      ]
     },
     "execution_count": 283,
     "metadata": {},
     "output_type": "execute_result"
    }
   ],
   "source": [
    "df.dtypes"
   ]
  },
  {
   "cell_type": "code",
   "execution_count": 284,
   "metadata": {},
   "outputs": [],
   "source": [
    "from sklearn.preprocessing import LabelEncoder\n",
    "for col in df.columns:\n",
    "    if df[col].dtype==\"object\":\n",
    "        df[col]=LabelEncoder().fit_transform(df[col])"
   ]
  },
  {
   "cell_type": "code",
   "execution_count": 285,
   "metadata": {},
   "outputs": [
    {
     "data": {
      "text/plain": [
       "Index(['Qualification', 'Experience', 'Rating', 'Profile', 'Fees', 'source',\n",
       "       'Cities', 'feedback_num'],\n",
       "      dtype='object')"
      ]
     },
     "execution_count": 285,
     "metadata": {},
     "output_type": "execute_result"
    }
   ],
   "source": [
    "df.columns"
   ]
  },
  {
   "cell_type": "markdown",
   "metadata": {},
   "source": [
    "# Machine learning for regression"
   ]
  },
  {
   "cell_type": "markdown",
   "metadata": {},
   "source": [
    "# "
   ]
  },
  {
   "cell_type": "code",
   "execution_count": 286,
   "metadata": {},
   "outputs": [],
   "source": [
    "#lets seprate test and train data\n",
    "df_train=df.loc[df[\"source\"]==1]\n",
    "df_test=df.loc[df[\"source\"]==0]"
   ]
  },
  {
   "cell_type": "code",
   "execution_count": 287,
   "metadata": {},
   "outputs": [],
   "source": [
    "#Resetting the index\n",
    "df_test.reset_index(drop=True,inplace=True)"
   ]
  },
  {
   "cell_type": "code",
   "execution_count": 288,
   "metadata": {},
   "outputs": [],
   "source": [
    "#Dropping the source column\n",
    "df_train.drop(columns=[\"source\"],inplace=True)\n",
    "df_test.drop(columns=[\"source\"],inplace=True)"
   ]
  },
  {
   "cell_type": "code",
   "execution_count": 289,
   "metadata": {},
   "outputs": [],
   "source": [
    "#Lets separate the input and output from train dataset\n",
    "df_x=df_train.drop(columns=[\"Fees\"])\n",
    "y=df_train[[\"Fees\"]]"
   ]
  },
  {
   "cell_type": "code",
   "execution_count": 290,
   "metadata": {},
   "outputs": [],
   "source": [
    "from sklearn.preprocessing import StandardScaler\n",
    "sc = StandardScaler()\n",
    "x = sc.fit_transform(df_x)\n",
    "x=pd.DataFrame(x,columns=df_x.columns)"
   ]
  },
  {
   "cell_type": "code",
   "execution_count": 291,
   "metadata": {},
   "outputs": [],
   "source": [
    "#to find random stat which gives maximum r2_score\n",
    "from sklearn.metrics import mean_absolute_error\n",
    "from sklearn.metrics import mean_squared_error\n",
    "from sklearn.metrics import r2_score\n",
    "from sklearn.model_selection import train_test_split\n",
    "def maxr2_score(regr,df_x,y):\n",
    "    max_r_score=0\n",
    "    for r_state in range(42,100):\n",
    "        x_train, x_test, y_train, y_test = train_test_split(df_x, y,random_state = r_state,test_size=0.20)\n",
    "        regr.fit(x_train,y_train)\n",
    "        y_pred = regr.predict(x_test)\n",
    "        r2_scr=r2_score(y_test,y_pred)\n",
    "        print(\"r2 score corresponding to \",r_state,\" is \",r2_scr)\n",
    "        if r2_scr>max_r_score:\n",
    "            max_r_score=r2_scr\n",
    "            final_r_state=r_state\n",
    "    print(\"max r2 score corresponding to \",final_r_state,\" is \",max_r_score)\n",
    "    return final_r_state"
   ]
  },
  {
   "cell_type": "code",
   "execution_count": 292,
   "metadata": {},
   "outputs": [],
   "source": [
    "#lets make a function which evaluates the model using cross_val_score\n",
    "from sklearn.model_selection import cross_val_score\n",
    "def model_evaluation(model,x,y):\n",
    "    c_scores=cross_val_score(model,x,y,cv=5,scoring=\"r2\")\n",
    "    print(\"Mean r2 score for regressor: \",c_scores.mean())\n",
    "    print(\"standard deviation in r2 score for regressor: \",c_scores.std())\n",
    "    print(c_scores)"
   ]
  },
  {
   "cell_type": "code",
   "execution_count": 293,
   "metadata": {},
   "outputs": [
    {
     "data": {
      "text/plain": [
       "{'learning_rate': 0.1, 'n_estimators': 100}"
      ]
     },
     "execution_count": 293,
     "metadata": {},
     "output_type": "execute_result"
    }
   ],
   "source": [
    "from sklearn.ensemble import GradientBoostingRegressor\n",
    "from sklearn.model_selection import GridSearchCV\n",
    "parameters={\"learning_rate\":[0.001,0.01,0.1,1],\"n_estimators\":[10,100,500,1000]}\n",
    "gb_reg=GradientBoostingRegressor()\n",
    "reg = GridSearchCV(gb_reg, parameters, cv=5,scoring=\"r2\")\n",
    "reg.fit(x,y)\n",
    "reg.best_params_"
   ]
  },
  {
   "cell_type": "code",
   "execution_count": 299,
   "metadata": {},
   "outputs": [
    {
     "name": "stdout",
     "output_type": "stream",
     "text": [
      "r2 score corresponding to  42  is  0.19873468390709548\n",
      "r2 score corresponding to  43  is  0.19194239278833647\n",
      "r2 score corresponding to  44  is  0.2264544036856837\n",
      "r2 score corresponding to  45  is  0.2037511914619553\n",
      "r2 score corresponding to  46  is  0.17848323425608625\n",
      "r2 score corresponding to  47  is  0.17653545696535466\n",
      "r2 score corresponding to  48  is  0.19400332613453397\n",
      "r2 score corresponding to  49  is  0.2051776229404344\n",
      "r2 score corresponding to  50  is  0.1784644694814681\n",
      "r2 score corresponding to  51  is  0.17608145412037124\n",
      "r2 score corresponding to  52  is  0.14689013504083825\n",
      "r2 score corresponding to  53  is  0.18299899619666904\n",
      "r2 score corresponding to  54  is  0.18993123422272262\n",
      "r2 score corresponding to  55  is  0.190223247206316\n",
      "r2 score corresponding to  56  is  0.1885704253951267\n",
      "r2 score corresponding to  57  is  0.19062975244700864\n",
      "r2 score corresponding to  58  is  0.1523487540845514\n",
      "r2 score corresponding to  59  is  0.21219190148450717\n",
      "r2 score corresponding to  60  is  0.20164006646864563\n",
      "r2 score corresponding to  61  is  0.17594359268049364\n",
      "r2 score corresponding to  62  is  0.16617949515514618\n",
      "r2 score corresponding to  63  is  0.23130829726390434\n",
      "r2 score corresponding to  64  is  0.18332403820150844\n",
      "r2 score corresponding to  65  is  0.19131286964658545\n",
      "r2 score corresponding to  66  is  0.18554185920664779\n",
      "r2 score corresponding to  67  is  0.183780027004955\n",
      "r2 score corresponding to  68  is  0.19340788352408955\n",
      "r2 score corresponding to  69  is  0.20960869442196728\n",
      "r2 score corresponding to  70  is  0.1873407038517444\n",
      "r2 score corresponding to  71  is  0.16141181556848616\n",
      "r2 score corresponding to  72  is  0.17043556052862407\n",
      "r2 score corresponding to  73  is  0.19441058447827952\n",
      "r2 score corresponding to  74  is  0.1940955042846052\n",
      "r2 score corresponding to  75  is  0.1848839046377223\n",
      "r2 score corresponding to  76  is  0.18966233650985798\n",
      "r2 score corresponding to  77  is  0.1820437955336487\n",
      "r2 score corresponding to  78  is  0.1954252379146918\n",
      "r2 score corresponding to  79  is  0.20944420159777977\n",
      "r2 score corresponding to  80  is  0.17585747200233548\n",
      "r2 score corresponding to  81  is  0.21479667600336072\n",
      "r2 score corresponding to  82  is  0.1815623834904848\n",
      "r2 score corresponding to  83  is  0.17998114215541228\n",
      "r2 score corresponding to  84  is  0.21548700732257264\n",
      "r2 score corresponding to  85  is  0.18563563064352961\n",
      "r2 score corresponding to  86  is  0.1919394270288498\n",
      "r2 score corresponding to  87  is  0.18960089229964627\n",
      "r2 score corresponding to  88  is  0.20207848231038283\n",
      "r2 score corresponding to  89  is  0.20134626084470664\n",
      "r2 score corresponding to  90  is  0.2135580568169162\n",
      "r2 score corresponding to  91  is  0.162793742034417\n",
      "r2 score corresponding to  92  is  0.15976124462504537\n",
      "r2 score corresponding to  93  is  0.18250176256826844\n",
      "r2 score corresponding to  94  is  0.1963796479281198\n",
      "r2 score corresponding to  95  is  0.20017795624362433\n",
      "r2 score corresponding to  96  is  0.17265460712133807\n",
      "r2 score corresponding to  97  is  0.1850261795454804\n",
      "r2 score corresponding to  98  is  0.1794012165353509\n",
      "r2 score corresponding to  99  is  0.20103075846646745\n",
      "max r2 score corresponding to  63  is  0.23130829726390434\n"
     ]
    },
    {
     "data": {
      "text/plain": [
       "63"
      ]
     },
     "execution_count": 299,
     "metadata": {},
     "output_type": "execute_result"
    }
   ],
   "source": [
    "gb_reg=GradientBoostingRegressor(learning_rate=0.1,n_estimators=100)\n",
    "maxr2_score(gb_reg,x,y)"
   ]
  },
  {
   "cell_type": "code",
   "execution_count": 228,
   "metadata": {},
   "outputs": [
    {
     "data": {
      "text/plain": [
       "{'n_estimators': 500}"
      ]
     },
     "execution_count": 228,
     "metadata": {},
     "output_type": "execute_result"
    }
   ],
   "source": [
    "from sklearn.ensemble import RandomForestRegressor\n",
    "from sklearn.model_selection import GridSearchCV\n",
    "import warnings\n",
    "warnings.filterwarnings(\"ignore\")\n",
    "rfr=RandomForestRegressor()\n",
    "parameters = {\"n_estimators\":[10,100,150,500]}\n",
    "clf = GridSearchCV(rfr, parameters, cv=5,scoring=\"r2\")\n",
    "clf.fit(x,y)\n",
    "clf.best_params_"
   ]
  },
  {
   "cell_type": "code",
   "execution_count": 295,
   "metadata": {},
   "outputs": [
    {
     "name": "stdout",
     "output_type": "stream",
     "text": [
      "r2 score corresponding to  42  is  0.09627174434530128\n",
      "r2 score corresponding to  43  is  0.0673382732271891\n",
      "r2 score corresponding to  44  is  0.1116395588328114\n",
      "r2 score corresponding to  45  is  0.09203532328695685\n",
      "r2 score corresponding to  46  is  0.0669490635704546\n",
      "r2 score corresponding to  47  is  0.0828311604091494\n",
      "r2 score corresponding to  48  is  0.08883313430354889\n",
      "r2 score corresponding to  49  is  0.09274562208666703\n",
      "r2 score corresponding to  50  is  0.04966633033741974\n",
      "r2 score corresponding to  51  is  0.090684803478154\n",
      "r2 score corresponding to  52  is  0.0373764267811052\n",
      "r2 score corresponding to  53  is  0.06993373820823467\n",
      "r2 score corresponding to  54  is  0.05338547710017261\n",
      "r2 score corresponding to  55  is  0.09928257555986897\n",
      "r2 score corresponding to  56  is  0.06689096992230381\n",
      "r2 score corresponding to  57  is  0.1071035014698426\n",
      "r2 score corresponding to  58  is  0.023516547163126456\n",
      "r2 score corresponding to  59  is  0.12000443121430848\n",
      "r2 score corresponding to  60  is  0.08920252213677915\n",
      "r2 score corresponding to  61  is  0.07963973087457377\n",
      "r2 score corresponding to  62  is  0.06632296319766795\n",
      "r2 score corresponding to  63  is  0.1810149190514444\n",
      "r2 score corresponding to  64  is  0.0780227122922792\n",
      "r2 score corresponding to  65  is  0.09220253956516378\n",
      "r2 score corresponding to  66  is  0.05785535358182137\n",
      "r2 score corresponding to  67  is  0.06996916185584501\n",
      "r2 score corresponding to  68  is  0.08445519532063572\n",
      "r2 score corresponding to  69  is  0.1105575338359921\n",
      "r2 score corresponding to  70  is  0.0386680350830253\n",
      "r2 score corresponding to  71  is  0.06364993220678072\n",
      "r2 score corresponding to  72  is  0.08046825685930503\n",
      "r2 score corresponding to  73  is  0.10640090258789503\n",
      "r2 score corresponding to  74  is  0.13461759572517018\n",
      "r2 score corresponding to  75  is  0.09382887857783295\n",
      "r2 score corresponding to  76  is  0.1073867480045575\n",
      "r2 score corresponding to  77  is  0.022963597675950798\n",
      "r2 score corresponding to  78  is  0.07154935809790397\n",
      "r2 score corresponding to  79  is  0.09809731690996759\n",
      "r2 score corresponding to  80  is  0.061716777327285866\n",
      "r2 score corresponding to  81  is  0.10684390897381946\n",
      "r2 score corresponding to  82  is  0.06422871585662704\n",
      "r2 score corresponding to  83  is  0.11205706918097513\n",
      "r2 score corresponding to  84  is  0.15577084957008502\n",
      "r2 score corresponding to  85  is  0.08452462724082899\n",
      "r2 score corresponding to  86  is  0.12269142939871969\n",
      "r2 score corresponding to  87  is  0.055017001836786594\n",
      "r2 score corresponding to  88  is  0.03626592884248525\n",
      "r2 score corresponding to  89  is  0.0990305774693746\n",
      "r2 score corresponding to  90  is  0.09492526030347537\n",
      "r2 score corresponding to  91  is  0.01887983596185938\n",
      "r2 score corresponding to  92  is  0.036509544908032154\n",
      "r2 score corresponding to  93  is  0.0781316632299347\n",
      "r2 score corresponding to  94  is  0.12548336735348586\n",
      "r2 score corresponding to  95  is  0.1285850325381821\n",
      "r2 score corresponding to  96  is  0.09211039725491288\n",
      "r2 score corresponding to  97  is  0.06995264849657856\n",
      "r2 score corresponding to  98  is  0.08996581825715344\n",
      "r2 score corresponding to  99  is  0.11204412588268475\n",
      "max r2 score corresponding to  63  is  0.1810149190514444\n"
     ]
    },
    {
     "data": {
      "text/plain": [
       "63"
      ]
     },
     "execution_count": 295,
     "metadata": {},
     "output_type": "execute_result"
    }
   ],
   "source": [
    "# Random forest using n_estimators=500 \n",
    "from sklearn.ensemble import RandomForestRegressor\n",
    "rfr=RandomForestRegressor(n_estimators=500)\n",
    "maxr2_score(rfr,x,y)"
   ]
  },
  {
   "cell_type": "code",
   "execution_count": 297,
   "metadata": {},
   "outputs": [
    {
     "data": {
      "text/plain": [
       "{'n_neighbors': 29}"
      ]
     },
     "execution_count": 297,
     "metadata": {},
     "output_type": "execute_result"
    }
   ],
   "source": [
    "from sklearn.neighbors import KNeighborsRegressor\n",
    "knr=KNeighborsRegressor()\n",
    "parameters = {\"n_neighbors\":range(2,30)}\n",
    "clf = GridSearchCV(knr, parameters, cv=5,scoring=\"r2\")\n",
    "clf.fit(x, y)\n",
    "clf.best_params_"
   ]
  },
  {
   "cell_type": "code",
   "execution_count": 298,
   "metadata": {},
   "outputs": [
    {
     "name": "stdout",
     "output_type": "stream",
     "text": [
      "r2 score corresponding to  42  is  0.1695634245563119\n",
      "r2 score corresponding to  43  is  0.1201698534111647\n",
      "r2 score corresponding to  44  is  0.19343033932207954\n",
      "r2 score corresponding to  45  is  0.15567289387376604\n",
      "r2 score corresponding to  46  is  0.14656501818754264\n",
      "r2 score corresponding to  47  is  0.12701218955712223\n",
      "r2 score corresponding to  48  is  0.13995578918006601\n",
      "r2 score corresponding to  49  is  0.1583992399598546\n",
      "r2 score corresponding to  50  is  0.1452481271582251\n",
      "r2 score corresponding to  51  is  0.13081995322387374\n",
      "r2 score corresponding to  52  is  0.09013446646913648\n",
      "r2 score corresponding to  53  is  0.15540427333666107\n",
      "r2 score corresponding to  54  is  0.15441534642006038\n",
      "r2 score corresponding to  55  is  0.14161845278307417\n",
      "r2 score corresponding to  56  is  0.13407709863588624\n",
      "r2 score corresponding to  57  is  0.15659570347880358\n",
      "r2 score corresponding to  58  is  0.10619816653412073\n",
      "r2 score corresponding to  59  is  0.16917602563300915\n",
      "r2 score corresponding to  60  is  0.18789070292439902\n",
      "r2 score corresponding to  61  is  0.13861646322392196\n",
      "r2 score corresponding to  62  is  0.14490570136256542\n",
      "r2 score corresponding to  63  is  0.20924330107725775\n",
      "r2 score corresponding to  64  is  0.1336485753470701\n",
      "r2 score corresponding to  65  is  0.15307859859299933\n",
      "r2 score corresponding to  66  is  0.12933874191064365\n",
      "r2 score corresponding to  67  is  0.13464562329855367\n",
      "r2 score corresponding to  68  is  0.15467918536386793\n",
      "r2 score corresponding to  69  is  0.16559656157207936\n",
      "r2 score corresponding to  70  is  0.1352093167045587\n",
      "r2 score corresponding to  71  is  0.1564721848675945\n",
      "r2 score corresponding to  72  is  0.13048542226764281\n",
      "r2 score corresponding to  73  is  0.14628076219322905\n",
      "r2 score corresponding to  74  is  0.17189038319651795\n",
      "r2 score corresponding to  75  is  0.13837402241940655\n",
      "r2 score corresponding to  76  is  0.12829165978128354\n",
      "r2 score corresponding to  77  is  0.10699470665522348\n",
      "r2 score corresponding to  78  is  0.14794209362133792\n",
      "r2 score corresponding to  79  is  0.15538959590463275\n",
      "r2 score corresponding to  80  is  0.13967933574540525\n",
      "r2 score corresponding to  81  is  0.16800105467398063\n",
      "r2 score corresponding to  82  is  0.1274205453865236\n",
      "r2 score corresponding to  83  is  0.1276512498952782\n",
      "r2 score corresponding to  84  is  0.17078881355615416\n",
      "r2 score corresponding to  85  is  0.13660721764820583\n",
      "r2 score corresponding to  86  is  0.14574663201327964\n",
      "r2 score corresponding to  87  is  0.15711185049073695\n",
      "r2 score corresponding to  88  is  0.16768098966928702\n",
      "r2 score corresponding to  89  is  0.16445671514211158\n",
      "r2 score corresponding to  90  is  0.17136437462449028\n",
      "r2 score corresponding to  91  is  0.11114908663058765\n",
      "r2 score corresponding to  92  is  0.1118567109880787\n",
      "r2 score corresponding to  93  is  0.14763656371989498\n",
      "r2 score corresponding to  94  is  0.16369089324600694\n",
      "r2 score corresponding to  95  is  0.15629733908581012\n",
      "r2 score corresponding to  96  is  0.11867235801563447\n",
      "r2 score corresponding to  97  is  0.108637853655567\n",
      "r2 score corresponding to  98  is  0.13028133041546075\n",
      "r2 score corresponding to  99  is  0.13977769804956852\n",
      "max r2 score corresponding to  63  is  0.20924330107725775\n"
     ]
    },
    {
     "data": {
      "text/plain": [
       "63"
      ]
     },
     "execution_count": 298,
     "metadata": {},
     "output_type": "execute_result"
    }
   ],
   "source": [
    "knr=KNeighborsRegressor(n_neighbors=29)\n",
    "maxr2_score(knr,x,y)"
   ]
  },
  {
   "cell_type": "code",
   "execution_count": 300,
   "metadata": {},
   "outputs": [],
   "source": [
    "#lets choose our final model\n",
    "#gradient boost"
   ]
  },
  {
   "cell_type": "code",
   "execution_count": 301,
   "metadata": {},
   "outputs": [],
   "source": [
    "x_train, x_test, y_train, y_test = train_test_split(x, y,random_state = 48,test_size=0.20)\n",
    "gb_reg=GradientBoostingRegressor(learning_rate=0.1,n_estimators=100)\n",
    "gb_reg.fit(x_train,y_train)\n",
    "y_pred=gb_reg.predict(x_test)"
   ]
  },
  {
   "cell_type": "code",
   "execution_count": 302,
   "metadata": {},
   "outputs": [
    {
     "name": "stdout",
     "output_type": "stream",
     "text": [
      "RMSE is:  176.2749787619931\n",
      "r2_score is:  0.19385414192198747\n"
     ]
    }
   ],
   "source": [
    "print(\"RMSE is: \",np.sqrt(mean_squared_error(y_test,y_pred)))\n",
    "print(\"r2_score is: \",r2_score(y_test,y_pred))"
   ]
  },
  {
   "cell_type": "code",
   "execution_count": 305,
   "metadata": {},
   "outputs": [],
   "source": [
    "#miscellanous"
   ]
  },
  {
   "cell_type": "code",
   "execution_count": null,
   "metadata": {},
   "outputs": [],
   "source": []
  }
 ],
 "metadata": {
  "kernelspec": {
   "display_name": "Python 3",
   "language": "python",
   "name": "python3"
  },
  "language_info": {
   "codemirror_mode": {
    "name": "ipython",
    "version": 3
   },
   "file_extension": ".py",
   "mimetype": "text/x-python",
   "name": "python",
   "nbconvert_exporter": "python",
   "pygments_lexer": "ipython3",
   "version": "3.7.6"
  }
 },
 "nbformat": 4,
 "nbformat_minor": 4
}
